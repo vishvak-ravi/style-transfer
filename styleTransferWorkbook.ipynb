{
 "cells": [
  {
   "cell_type": "code",
   "execution_count": 1,
   "id": "initial_id",
   "metadata": {
    "collapsed": true,
    "ExecuteTime": {
     "end_time": "2023-08-16T02:10:29.348454600Z",
     "start_time": "2023-08-16T02:10:26.525433800Z"
    }
   },
   "outputs": [],
   "source": [
    "import tensorflow as tf\n",
    "from tensorflow.python import keras #for some reason PyCharm doesn't detect tensorflow.keras (idk why)\n",
    "import numpy as np\n",
    "import matplotlib.pyplot as plt"
   ]
  },
  {
   "cell_type": "code",
   "execution_count": 2,
   "outputs": [],
   "source": [
    "from keras.applications.vgg19 import VGG19\n",
    "from keras.applications.vgg19 import preprocess_input\n",
    "\n",
    "vgg = VGG19(include_top=False) #we only need the convolutional layers"
   ],
   "metadata": {
    "collapsed": false,
    "ExecuteTime": {
     "end_time": "2023-08-16T02:10:30.434651Z",
     "start_time": "2023-08-16T02:10:30.118606100Z"
    }
   },
   "id": "a88103bb5b0aa72f"
  },
  {
   "cell_type": "code",
   "execution_count": 3,
   "outputs": [],
   "source": [
    "def load_img(path):\n",
    "    max_dim = 512\n",
    "    img = tf.io.read_file(path)\n",
    "    img = tf.image.decode_image(img, channels=3)\n",
    "    img = tf.image.convert_image_dtype(img, tf.float32)\n",
    "    \n",
    "    new_shape = tf.cast(tf.shape(img)[:-1] * max_dim/max(tf.shape(img)), dtype=tf.int32)#rescale image to 512\n",
    "    img = tf.image.resize(img, new_shape)\n",
    "    \n",
    "    \n",
    "    return img[tf.newaxis, :] #vgg requires batched input\n",
    "\n",
    "def imshow(image, title=None):\n",
    "    if len(tf.shape(image)) > 3:\n",
    "        image = tf.squeeze(image, axis=0)\n",
    "    plt.imshow(image)\n",
    "    if title:\n",
    "        plt.title(title)\n",
    "     "
   ],
   "metadata": {
    "collapsed": false,
    "ExecuteTime": {
     "end_time": "2023-08-16T02:10:31.131772Z",
     "start_time": "2023-08-16T02:10:31.126267900Z"
    }
   },
   "id": "79321d4e1fca28a0"
  },
  {
   "cell_type": "code",
   "execution_count": 4,
   "outputs": [],
   "source": [
    "def layer_models(layers):\n",
    "    vgg = VGG19(include_top=False)\n",
    "    vgg.trainable = False\n",
    "    \n",
    "    outputs = [vgg.get_layer(layer).output for layer in layers]\n",
    "    return tf.keras.Model(vgg.inputs, outputs)"
   ],
   "metadata": {
    "collapsed": false,
    "ExecuteTime": {
     "end_time": "2023-08-16T02:10:49.588593500Z",
     "start_time": "2023-08-16T02:10:49.576594700Z"
    }
   },
   "id": "74780d07512940ad"
  },
  {
   "cell_type": "code",
   "execution_count": 12,
   "outputs": [],
   "source": [
    "def gram_matrix(tensor):\n",
    "    temp = tf.linalg.einsum('ijka, ijkb->iab', tensor, tensor)\n",
    "    return temp/tf.cast(tf.shape(tensor)[1] * tf.shape(tensor)[2], tf.float32) #loss is relative to "
   ],
   "metadata": {
    "collapsed": false,
    "ExecuteTime": {
     "end_time": "2023-08-16T02:13:50.451056500Z",
     "start_time": "2023-08-16T02:13:50.437548400Z"
    }
   },
   "id": "1f76d62b68c1f1ac"
  },
  {
   "cell_type": "code",
   "execution_count": 13,
   "outputs": [],
   "source": [
    "class StyleTransfer(tf.keras.models.Model):\n",
    "    def __init__(self, style_layers, content_layers):\n",
    "        super(StyleTransfer, self).__init__()\n",
    "        self.vgg = layer_models(style_layers + content_layers)\n",
    "        self.style_layers = style_layers\n",
    "        self.content_layers = content_layers\n",
    "        self.num_style_layers = len(style_layers)\n",
    "        self.vgg.trainable = False\n",
    "    def call(self, inputs):\n",
    "        inputs = inputs*255.0\n",
    "        preprocessed_inputs = preprocess_input(inputs)\n",
    "        outputs = self.vgg(preprocessed_inputs)\n",
    "        style_outputs = outputs[:self.num_style_layers]\n",
    "        content_outputs = outputs[self.num_style_layers:]\n",
    "        \n",
    "        style_outputs = [gram_matrix(style) for style in style_outputs]\n",
    "        \n",
    "        style_dictionary = {style : output for style, output in zip(self.style_layers, style_outputs)}\n",
    "        content_dictionary = {content : output for content, output in zip(self.content_layers, content_outputs)}\n",
    "        \n",
    "        return {\"style\" : style_dictionary, \"content\" : content_dictionary}"
   ],
   "metadata": {
    "collapsed": false,
    "ExecuteTime": {
     "end_time": "2023-08-16T02:13:51.628647100Z",
     "start_time": "2023-08-16T02:13:51.623644100Z"
    }
   },
   "id": "5907413df934780a"
  },
  {
   "cell_type": "code",
   "execution_count": 15,
   "outputs": [
    {
     "data": {
      "text/plain": "{'style': {'block1_pool': <tf.Tensor: shape=(1, 64, 64), dtype=float32, numpy=\n  array([[[  9008.886 ,   9052.644 ,  14108.863 , ...,   4225.556 ,\n             4276.1846,   5502.0405],\n          [  9052.644 ,  17271.033 ,  38150.99  , ...,   6908.8457,\n             5921.324 ,   4853.137 ],\n          [ 14108.863 ,  38150.99  , 140497.86  , ...,   4234.1377,\n            13382.983 ,   6955.66  ],\n          ...,\n          [  4225.556 ,   6908.8457,   4234.1377, ...,  10605.417 ,\n             4219.266 ,   2878.243 ],\n          [  4276.1846,   5921.324 ,  13382.983 , ...,   4219.266 ,\n             9844.253 ,   4172.7837],\n          [  5502.0405,   4853.137 ,   6955.66  , ...,   2878.243 ,\n             4172.7837,   8622.902 ]]], dtype=float32)>,\n  'block2_pool': <tf.Tensor: shape=(1, 128, 128), dtype=float32, numpy=\n  array([[[ 64092.934,  15731.841,  12962.774, ...,  43833.605,\n            37527.773,  11433.6  ],\n          [ 15731.841, 101774.42 ,  13981.542, ...,  32397.666,\n            15449.894,  42982.797],\n          [ 12962.774,  13981.542,  34234.113, ...,  27009.098,\n            28859.857,   8307.165],\n          ...,\n          [ 43833.605,  32397.666,  27009.098, ..., 106150.32 ,\n            53593.9  ,  29294.686],\n          [ 37527.773,  15449.894,  28859.857, ...,  53593.9  ,\n            98572.266,   6118.02 ],\n          [ 11433.6  ,  42982.797,   8307.165, ...,  29294.686,\n             6118.02 ,  52983.13 ]]], dtype=float32)>,\n  'block3_pool': <tf.Tensor: shape=(1, 256, 256), dtype=float32, numpy=\n  array([[[7136131.5  , 2424659.8  ,  412195.3  , ..., 1270602.6  ,\n            755303.9  , 1703535.4  ],\n          [2424659.8  , 1439509.9  ,  285879.75 , ...,  929959.8  ,\n            331565.44 ,  673005.44 ],\n          [ 412195.3  ,  285879.75 ,  132668.19 , ...,  293106.9  ,\n             93813.586,  174140.73 ],\n          ...,\n          [1270602.6  ,  929959.8  ,  293106.9  , ..., 1414187.5  ,\n            289432.38 ,  472898.25 ],\n          [ 755303.9  ,  331565.44 ,   93813.586, ...,  289432.38 ,\n            352197.84 ,  269207.25 ],\n          [1703535.4  ,  673005.44 ,  174140.73 , ...,  472898.25 ,\n            269207.25 ,  746047.06 ]]], dtype=float32)>,\n  'block4_pool': <tf.Tensor: shape=(1, 512, 512), dtype=float32, numpy=\n  array([[[16909.16  ,  2749.8953,   985.6362, ...,  2840.213 ,\n            2278.3562,  1495.7345],\n          [ 2749.8953, 24596.295 ,  1331.7755, ...,  6597.5493,\n            3465.8347,  2313.1282],\n          [  985.6362,  1331.7755, 19546.191 , ...,  4003.4917,\n            5845.109 ,   844.9517],\n          ...,\n          [ 2840.213 ,  6597.5493,  4003.4917, ..., 74484.93  ,\n            7697.863 ,  9188.798 ],\n          [ 2278.3562,  3465.8347,  5845.109 , ...,  7697.863 ,\n           30259.633 ,  2431.6472],\n          [ 1495.7345,  2313.1282,   844.9517, ...,  9188.798 ,\n            2431.6472, 14829.814 ]]], dtype=float32)>},\n 'content': {'block5_pool': <tf.Tensor: shape=(1, 8, 16, 512), dtype=float32, numpy=\n  array([[[[ 0.        ,  0.        ,  0.        , ...,  0.        ,\n             0.        ,  0.        ],\n           [ 0.8052572 ,  0.        ,  0.        , ...,  0.        ,\n             0.        ,  0.        ],\n           [ 0.        ,  0.        ,  0.        , ...,  0.        ,\n             0.        ,  0.        ],\n           ...,\n           [ 0.        ,  0.        ,  0.        , ...,  0.        ,\n             0.        ,  0.        ],\n           [ 0.        ,  0.        ,  0.        , ...,  0.        ,\n             2.130078  ,  0.        ],\n           [ 0.        ,  0.        ,  0.        , ...,  0.        ,\n             4.260149  ,  0.        ]],\n  \n          [[ 0.        ,  0.        ,  0.        , ...,  0.        ,\n             0.        ,  0.        ],\n           [ 0.        ,  0.        ,  0.        , ...,  0.        ,\n             0.        ,  0.        ],\n           [ 0.        ,  0.        ,  0.        , ...,  0.        ,\n             0.        ,  0.        ],\n           ...,\n           [ 0.        ,  0.        ,  0.        , ...,  0.        ,\n             0.        ,  0.        ],\n           [ 0.        ,  0.        ,  0.        , ...,  0.        ,\n             0.        ,  0.        ],\n           [ 0.        ,  0.        ,  0.        , ...,  0.        ,\n             0.        ,  0.        ]],\n  \n          [[ 0.        ,  0.        ,  0.        , ...,  0.        ,\n             0.        ,  0.        ],\n           [ 0.        ,  0.        ,  0.        , ...,  0.        ,\n             0.        ,  0.        ],\n           [ 0.        ,  0.        ,  0.        , ...,  0.        ,\n             0.        ,  0.        ],\n           ...,\n           [ 0.        ,  0.        ,  0.        , ...,  0.        ,\n             0.        ,  0.        ],\n           [ 0.        ,  0.        ,  0.        , ...,  0.        ,\n             0.        ,  0.        ],\n           [ 0.        ,  0.        ,  0.        , ...,  0.        ,\n             0.        ,  0.        ]],\n  \n          ...,\n  \n          [[ 0.        ,  0.        ,  0.        , ...,  0.        ,\n             0.        ,  0.        ],\n           [ 0.        ,  0.        ,  0.        , ...,  0.        ,\n             0.        ,  0.        ],\n           [ 0.        ,  0.        ,  0.        , ...,  0.        ,\n             0.        ,  0.        ],\n           ...,\n           [ 0.        ,  0.        ,  0.        , ...,  0.        ,\n             0.        , 59.479458  ],\n           [ 0.        ,  0.        ,  0.        , ...,  0.        ,\n             6.812905  ,  0.        ],\n           [ 0.        ,  0.        ,  0.        , ...,  0.        ,\n             7.6122093 ,  0.        ]],\n  \n          [[ 0.        ,  0.        ,  0.        , ...,  0.        ,\n             0.        ,  0.        ],\n           [ 0.        ,  0.        ,  0.        , ...,  0.        ,\n             0.        ,  0.        ],\n           [ 0.        ,  0.        ,  0.        , ...,  0.        ,\n             0.        ,  0.        ],\n           ...,\n           [ 0.        ,  0.        ,  0.        , ...,  0.        ,\n             0.        ,  0.        ],\n           [ 0.        ,  0.        ,  0.        , ...,  0.        ,\n             0.23026437,  0.        ],\n           [ 0.        ,  0.        ,  0.        , ...,  0.        ,\n             0.        ,  0.        ]],\n  \n          [[ 0.        ,  0.        ,  0.        , ...,  0.        ,\n             0.        ,  0.        ],\n           [ 0.        ,  0.        ,  0.        , ...,  0.        ,\n             0.        ,  0.        ],\n           [ 0.        ,  0.        ,  0.        , ...,  0.        ,\n             0.        ,  0.        ],\n           ...,\n           [ 0.        ,  0.        ,  0.        , ...,  0.        ,\n             0.        ,  0.        ],\n           [ 2.0807312 ,  0.        ,  0.        , ...,  0.        ,\n             0.        ,  0.        ],\n           [ 0.        ,  0.        ,  0.        , ...,  0.        ,\n             0.        ,  0.        ]]]], dtype=float32)>}}"
     },
     "execution_count": 15,
     "metadata": {},
     "output_type": "execute_result"
    }
   ],
   "source": [
    "#Identify style and content layers\n",
    "style_layers = [\"block1_pool\", \"block2_pool\", \"block3_pool\", \"block4_pool\"]\n",
    "content_layers = [\"block5_pool\"]\n",
    "\n",
    "#Content and style images\n",
    "content_image = load_img(\"nighthawks.jpg\")\n",
    "style_image = load_img(\"starryNightResized.jpg\")\n",
    "\n",
    "extractor = StyleTransfer(style_layers, content_layers)\n",
    "\n",
    "extractor(tf.constant(content_image))"
   ],
   "metadata": {
    "collapsed": false,
    "ExecuteTime": {
     "end_time": "2023-08-16T02:14:30.638989300Z",
     "start_time": "2023-08-16T02:14:30.077736400Z"
    }
   },
   "id": "7848a6a063d0fa6e"
  },
  {
   "cell_type": "code",
   "execution_count": null,
   "outputs": [],
   "source": [],
   "metadata": {
    "collapsed": false
   },
   "id": "1d2cb1e5ae5a5854"
  }
 ],
 "metadata": {
  "kernelspec": {
   "display_name": "Python 3",
   "language": "python",
   "name": "python3"
  },
  "language_info": {
   "codemirror_mode": {
    "name": "ipython",
    "version": 2
   },
   "file_extension": ".py",
   "mimetype": "text/x-python",
   "name": "python",
   "nbconvert_exporter": "python",
   "pygments_lexer": "ipython2",
   "version": "2.7.6"
  }
 },
 "nbformat": 4,
 "nbformat_minor": 5
}
